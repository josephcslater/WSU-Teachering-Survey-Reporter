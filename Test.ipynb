{
 "cells": [
  {
   "cell_type": "code",
   "execution_count": 1,
   "metadata": {
    "scrolled": true
   },
   "outputs": [],
   "source": [
    "#%gui qt\n",
    "from WSU_Teaching_Survey_Reporter import *\n",
    "#dir()"
   ]
  },
  {
   "cell_type": "code",
   "execution_count": 2,
   "metadata": {},
   "outputs": [
    {
     "name": "stdout",
     "output_type": "stream",
     "text": [
      "loading  /Users/jslater/Downloads/201730Springcoursestaughtinclassroom(Scantronversion)numericandtext_MechanicalandMaterialsEngineering.xlsx\n",
      "(252, 5)\n",
      "loading  /Users/jslater/Downloads/201740Summercoursestaughtinclassroom_MechanicalandMaterialsEngineering.xlsx\n",
      "(24, 5)\n",
      "loading  /Users/jslater/Downloads/201780Fallcoursestaughtinclassroom_MechanicalandMaterialsEngineering.xlsx\n",
      "(336, 5)\n",
      "loading  /Users/jslater/Downloads/201780Fallcoursestaughtinclassroom(Scantronversion)numericandtext_MechanicalandMaterialsEngineering.xlsx\n",
      "(140, 5)\n",
      "loading  /Users/jslater/Downloads/201730Springcoursestaughtinclassroom_MechanicalandMaterialsEngineering.xlsx\n",
      "(232, 5)\n"
     ]
    }
   ],
   "source": [
    "combined = load_all_evals()"
   ]
  },
  {
   "cell_type": "code",
   "execution_count": 3,
   "metadata": {},
   "outputs": [
    {
     "data": {
      "text/plain": [
       "(984, 5)"
      ]
     },
     "execution_count": 3,
     "metadata": {},
     "output_type": "execute_result"
    }
   ],
   "source": [
    "combined.shape"
   ]
  },
  {
   "cell_type": "code",
   "execution_count": 4,
   "metadata": {},
   "outputs": [
    {
     "data": {
      "text/html": [
       "\n",
       "        <iframe\n",
       "            width=\"100%\"\n",
       "            height=\"500\"\n",
       "            src=\"pivottablejs.html\"\n",
       "            frameborder=\"0\"\n",
       "            allowfullscreen\n",
       "        ></iframe>\n",
       "        "
      ],
      "text/plain": [
       "<IPython.lib.display.IFrame at 0x114120f28>"
      ]
     },
     "execution_count": 4,
     "metadata": {},
     "output_type": "execute_result"
    }
   ],
   "source": [
    "pivot_ui(combined)"
   ]
  },
  {
   "cell_type": "code",
   "execution_count": 9,
   "metadata": {},
   "outputs": [
    {
     "ename": "NameError",
     "evalue": "name 'fall' is not defined",
     "output_type": "error",
     "traceback": [
      "\u001b[0;31m---------------------------------------------------------------------------\u001b[0m",
      "\u001b[0;31mNameError\u001b[0m                                 Traceback (most recent call last)",
      "\u001b[0;32m<ipython-input-9-fb0f97fd6497>\u001b[0m in \u001b[0;36m<module>\u001b[0;34m()\u001b[0m\n\u001b[0;32m----> 1\u001b[0;31m \u001b[0mfall\u001b[0m\u001b[0;34m\u001b[0m\u001b[0m\n\u001b[0m",
      "\u001b[0;31mNameError\u001b[0m: name 'fall' is not defined"
     ]
    }
   ],
   "source": [
    "fall"
   ]
  },
  {
   "cell_type": "code",
   "execution_count": 7,
   "metadata": {},
   "outputs": [
    {
     "data": {
      "text/plain": [
       "(336, 5)"
      ]
     },
     "execution_count": 7,
     "metadata": {},
     "output_type": "execute_result"
    }
   ],
   "source": [
    "fall.shape"
   ]
  },
  {
   "cell_type": "code",
   "execution_count": 6,
   "metadata": {},
   "outputs": [
    {
     "data": {
      "text/html": [
       "\n",
       "        <iframe\n",
       "            width=\"100%\"\n",
       "            height=\"500\"\n",
       "            src=\"pivottablejs.html\"\n",
       "            frameborder=\"0\"\n",
       "            allowfullscreen\n",
       "        ></iframe>\n",
       "        "
      ],
      "text/plain": [
       "<IPython.lib.display.IFrame at 0x1170389b0>"
      ]
     },
     "execution_count": 6,
     "metadata": {},
     "output_type": "execute_result"
    }
   ],
   "source": [
    "pivot_ui(fall)"
   ]
  },
  {
   "cell_type": "code",
   "execution_count": 2,
   "metadata": {},
   "outputs": [
    {
     "data": {
      "text/html": [
       "\n",
       "        <iframe\n",
       "            width=\"100%\"\n",
       "            height=\"500\"\n",
       "            src=\"pivottablejs.html\"\n",
       "            frameborder=\"0\"\n",
       "            allowfullscreen\n",
       "        ></iframe>\n",
       "        "
      ],
      "text/plain": [
       "<IPython.lib.display.IFrame at 0x10b356080>"
      ]
     },
     "execution_count": 2,
     "metadata": {},
     "output_type": "execute_result"
    }
   ],
   "source": [
    "pivot_ui(load_all_evals())"
   ]
  },
  {
   "cell_type": "code",
   "execution_count": null,
   "metadata": {},
   "outputs": [],
   "source": [
    "filename = \"/Users/jslater/Downloads/201730Springcoursestaughtinclassroom(Scantronversion)numericandtext_MechanicalandMaterialsEngineering.xlsx\"\n",
    "spring_untenured = load_evals(filename)\n",
    "\n",
    "filename = \"/Users/jslater/Downloads/201730Springcoursestaughtinclassroom_MechanicalandMaterialsEngineering.xlsx\"\n",
    "spring_tenured = load_evals(filename)\n",
    "\n",
    "filename = \"/Users/jslater/Downloads/201740Summercoursestaughtinclassroom_MechanicalandMaterialsEngineering.xlsx\"\n",
    "summer_tenured = load_evals(filename)\n",
    "\n",
    "filename = \"/Users/jslater/Downloads/201780Fallcoursestaughtinclassroom(Scantronversion)numericandtext_MechanicalandMaterialsEngineering.xlsx\"\n",
    "fall_untenured = load_evals(filename)\n",
    "\n",
    "filename = \"/Users/jslater/Downloads/201780Fallcoursestaughtinclassroom_MechanicalandMaterialsEngineering.xlsx\"\n",
    "fall_tenured = load_evals(filename)\n",
    "path = filename[:filename.rfind('/')] + '/'\n",
    "\n",
    "combined = append(spring_untenured, spring_tenured, summer_tenured, fall_untenured, fall_tenured)\n",
    "\n",
    "writer = pd.ExcelWriter(path + 'Year_Evaluations.xlsx')\n",
    "combined.to_excel(writer, 'Sheet1')\n",
    "writer.save()\n",
    "#(filename, sheet_name= 'RawData')"
   ]
  },
  {
   "cell_type": "code",
   "execution_count": null,
   "metadata": {},
   "outputs": [],
   "source": []
  }
 ],
 "metadata": {
  "kernelspec": {
   "display_name": "Python 3",
   "language": "python",
   "name": "python3"
  },
  "latex_envs": {
   "LaTeX_envs_menu_present": true,
   "autoclose": false,
   "autocomplete": true,
   "bibliofile": "biblio.bib",
   "cite_by": "apalike",
   "current_citInitial": 1,
   "eqLabelWithNumbers": true,
   "eqNumInitial": 1,
   "hotkeys": {
    "equation": "Ctrl-E",
    "itemize": "Ctrl-I"
   },
   "labels_anchors": false,
   "latex_user_defs": false,
   "report_style_numbering": false,
   "user_envs_cfg": false
  },
  "toc": {
   "nav_menu": {},
   "number_sections": true,
   "sideBar": true,
   "skip_h1_title": false,
   "title_cell": "Table of Contents",
   "title_sidebar": "Contents",
   "toc_cell": false,
   "toc_position": {},
   "toc_section_display": true,
   "toc_window_display": false
  },
  "varInspector": {
   "cols": {
    "lenName": 16,
    "lenType": 16,
    "lenVar": 40
   },
   "kernels_config": {
    "python": {
     "delete_cmd_postfix": "",
     "delete_cmd_prefix": "del ",
     "library": "var_list.py",
     "varRefreshCmd": "print(var_dic_list())"
    },
    "r": {
     "delete_cmd_postfix": ") ",
     "delete_cmd_prefix": "rm(",
     "library": "var_list.r",
     "varRefreshCmd": "cat(var_dic_list()) "
    }
   },
   "position": {
    "height": "270px",
    "left": "1054px",
    "right": "20px",
    "top": "120px",
    "width": "364px"
   },
   "types_to_exclude": [
    "module",
    "function",
    "builtin_function_or_method",
    "instance",
    "_Feature"
   ],
   "window_display": false
  }
 },
 "nbformat": 4,
 "nbformat_minor": 2
}
