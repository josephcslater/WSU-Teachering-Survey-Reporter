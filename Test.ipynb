{
 "cells": [
  {
   "cell_type": "code",
   "execution_count": 1,
   "metadata": {
    "scrolled": true
   },
   "outputs": [],
   "source": [
    "#%gui qt\n",
    "from WSU_Teaching_Survey_Reporter import *\n",
    "#from beakerx import *\n",
    "import qgrid\n",
    "#dir()"
   ]
  },
  {
   "cell_type": "code",
   "execution_count": 2,
   "metadata": {},
   "outputs": [
    {
     "name": "stdout",
     "output_type": "stream",
     "text": [
      "loading  /Users/jslater/Downloads/201640Summercoursestaughtinclassroom(Scantronversion)-FullandBterm_MechanicalandMaterialsEngineering.xlsx\n",
      "(42, 5)\n",
      "loading  /Users/jslater/Downloads/201730Springcoursestaughtinclassroom(Scantronversion)numericandtext_MechanicalandMaterialsEngineering.xlsx\n",
      "(252, 5)\n",
      "loading  /Users/jslater/Downloads/201680Fallcoursestaughtinclassroom(Scantronversion)_MechanicalandMaterialsEngineering.xlsx\n",
      "(224, 5)\n",
      "loading  /Users/jslater/Downloads/201580Fallcoursestaughtinclassroom_MechanicalandMaterialsEngineering(1).xlsx\n",
      "(264, 5)\n",
      "loading  /Users/jslater/Downloads/201740Summercoursestaughtinclassroom_MechanicalandMaterialsEngineering.xlsx\n",
      "(24, 5)\n",
      "loading  /Users/jslater/Downloads/201630Springcoursestaughtinclassroom-FullandBTerm_MechanicalandMaterialsEngineering.xlsx\n",
      "(176, 5)\n",
      "loading  /Users/jslater/Downloads/201780Fallcoursestaughtinclassroom_MechanicalandMaterialsEngineering.xlsx\n",
      "(336, 5)\n",
      "loading  /Users/jslater/Downloads/201780Fallcoursestaughtinclassroom(Scantronversion)numericandtext_MechanicalandMaterialsEngineering.xlsx\n",
      "(140, 5)\n",
      "loading  /Users/jslater/Downloads/201730Springcoursestaughtinclassroom_MechanicalandMaterialsEngineering.xlsx\n",
      "(232, 5)\n",
      "loading  /Users/jslater/Downloads/201640Summercoursestaughtinclassroom-FullandBTerm_MechanicalandMaterialsEngineering.xlsx\n",
      "(112, 5)\n",
      "loading  /Users/jslater/Downloads/201580Fallcoursestaughtinclassroom_MechanicalandMaterialsEngineering.xlsx\n",
      "(14, 5)\n",
      "loading  /Users/jslater/Downloads/201680Fallcoursestaughtinclassroom_MechanicalandMaterialsEngineering.xlsx\n",
      "(344, 5)\n"
     ]
    }
   ],
   "source": [
    "combined = load_all_evals()"
   ]
  },
  {
   "cell_type": "code",
   "execution_count": 3,
   "metadata": {},
   "outputs": [
    {
     "data": {
      "text/plain": [
       "(2160, 5)"
      ]
     },
     "execution_count": 3,
     "metadata": {},
     "output_type": "execute_result"
    }
   ],
   "source": [
    "combined.shape"
   ]
  },
  {
   "cell_type": "code",
   "execution_count": 4,
   "metadata": {},
   "outputs": [],
   "source": [
    "a = {'enableColumnReorder': True}"
   ]
  },
  {
   "cell_type": "code",
   "execution_count": 5,
   "metadata": {},
   "outputs": [
    {
     "data": {
      "text/plain": [
       "True"
      ]
     },
     "execution_count": 5,
     "metadata": {},
     "output_type": "execute_result"
    }
   ],
   "source": [
    "a['enableColumnReorder']"
   ]
  },
  {
   "cell_type": "code",
   "execution_count": 7,
   "metadata": {},
   "outputs": [
    {
     "data": {
      "application/vnd.jupyter.widget-view+json": {
       "model_id": "648f5ca5c4db4f2c9a06593928940571",
       "version_major": 2,
       "version_minor": 0
      },
      "text/html": [
       "<p>Failed to display Jupyter Widget of type <code>QgridWidget</code>.</p>\n",
       "<p>\n",
       "  If you're reading this message in the Jupyter Notebook or JupyterLab Notebook, it may mean\n",
       "  that the widgets JavaScript is still loading. If this message persists, it\n",
       "  likely means that the widgets JavaScript library is either not installed or\n",
       "  not enabled. See the <a href=\"https://ipywidgets.readthedocs.io/en/stable/user_install.html\">Jupyter\n",
       "  Widgets Documentation</a> for setup instructions.\n",
       "</p>\n",
       "<p>\n",
       "  If you're reading this message in another frontend (for example, a static\n",
       "  rendering on GitHub or <a href=\"https://nbviewer.jupyter.org/\">NBViewer</a>),\n",
       "  it may mean that your frontend doesn't currently support widgets.\n",
       "</p>\n"
      ],
      "text/plain": [
       "QgridWidget(grid_options={'fullWidthRows': True, 'syncColumnCellResize': True, 'forceFitColumns': True, 'defaultColumnWidth': 150, 'rowHeight': 28, 'enableColumnReorder': True, 'enableTextSelectionOnCells': True, 'editable': True, 'autoEdit': False, 'explicitInitialization': True, 'maxVisibleRows': 15, 'minVisibleRows': 8, 'sortable': True, 'filterable': True, 'highlightSelectedCell': False, 'highlightSelectedRow': True}, precision=5, show_toolbar=True)"
      ]
     },
     "metadata": {},
     "output_type": "display_data"
    }
   ],
   "source": [
    "qgrid.set_grid_option('enableColumnReorder', True)\n",
    "qgrid_widget = qgrid.show_grid(combined, show_toolbar = True)\n",
    "#combined\n",
    "qgrid_widget"
   ]
  },
  {
   "cell_type": "code",
   "execution_count": 8,
   "metadata": {},
   "outputs": [
    {
     "data": {
      "text/html": [
       "\n",
       "        <iframe\n",
       "            width=\"100%\"\n",
       "            height=\"500\"\n",
       "            src=\"pivottablejs.html\"\n",
       "            frameborder=\"0\"\n",
       "            allowfullscreen\n",
       "        ></iframe>\n",
       "        "
      ],
      "text/plain": [
       "<IPython.lib.display.IFrame at 0x113f45978>"
      ]
     },
     "execution_count": 8,
     "metadata": {},
     "output_type": "execute_result"
    }
   ],
   "source": [
    "pivot_ui(combined)"
   ]
  },
  {
   "cell_type": "code",
   "execution_count": null,
   "metadata": {},
   "outputs": [],
   "source": []
  }
 ],
 "metadata": {
  "kernelspec": {
   "display_name": "Python 3",
   "language": "python",
   "name": "python3"
  },
  "language_info": {
   "codemirror_mode": {
    "name": "ipython",
    "version": 3
   },
   "file_extension": ".py",
   "mimetype": "text/x-python",
   "name": "python",
   "nbconvert_exporter": "python",
   "pygments_lexer": "ipython3",
   "version": "3.6.4"
  },
  "latex_envs": {
   "LaTeX_envs_menu_present": true,
   "autoclose": false,
   "autocomplete": true,
   "bibliofile": "biblio.bib",
   "cite_by": "apalike",
   "current_citInitial": 1,
   "eqLabelWithNumbers": true,
   "eqNumInitial": 1,
   "hotkeys": {
    "equation": "Ctrl-E",
    "itemize": "Ctrl-I"
   },
   "labels_anchors": false,
   "latex_user_defs": false,
   "report_style_numbering": false,
   "user_envs_cfg": false
  },
  "toc": {
   "nav_menu": {},
   "number_sections": true,
   "sideBar": true,
   "skip_h1_title": false,
   "title_cell": "Table of Contents",
   "title_sidebar": "Contents",
   "toc_cell": false,
   "toc_position": {},
   "toc_section_display": true,
   "toc_window_display": false
  },
  "varInspector": {
   "cols": {
    "lenName": 16,
    "lenType": 16,
    "lenVar": 40
   },
   "kernels_config": {
    "python": {
     "delete_cmd_postfix": "",
     "delete_cmd_prefix": "del ",
     "library": "var_list.py",
     "varRefreshCmd": "print(var_dic_list())"
    },
    "r": {
     "delete_cmd_postfix": ") ",
     "delete_cmd_prefix": "rm(",
     "library": "var_list.r",
     "varRefreshCmd": "cat(var_dic_list()) "
    }
   },
   "position": {
    "height": "270px",
    "left": "1054px",
    "right": "20px",
    "top": "120px",
    "width": "364px"
   },
   "types_to_exclude": [
    "module",
    "function",
    "builtin_function_or_method",
    "instance",
    "_Feature"
   ],
   "window_display": false
  }
 },
 "nbformat": 4,
 "nbformat_minor": 2
}
